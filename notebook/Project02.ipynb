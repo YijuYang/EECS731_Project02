{
 "cells": [
  {
   "cell_type": "code",
   "execution_count": 1,
   "metadata": {},
   "outputs": [],
   "source": [
    "# compare algorithms\n",
    "import numpy as np\n",
    "from pandas import read_csv\n",
    "from matplotlib import pyplot\n",
    "from sklearn import preprocessing\n",
    "\n",
    "from sklearn.model_selection import train_test_split\n",
    "\n",
    "from sklearn.tree import DecisionTreeClassifier\n",
    "\n",
    "from sklearn.metrics import confusion_matrix\n",
    "from sklearn.metrics import classification_report\n",
    "from sklearn.metrics import confusion_matrix\n",
    "from sklearn.metrics import accuracy_score"
   ]
  },
  {
   "cell_type": "code",
   "execution_count": 2,
   "metadata": {},
   "outputs": [],
   "source": [
    "# Load dataset\n",
    "names = [\"Dataline\",\"Play\",\"PlayerLinenumber\",\"ActSceneLine\",\"Player\",\"PlayerLine\"]\n",
    "dataset = read_csv('../archive/Shakespeare_data.csv', names=names)\n",
    "\n",
    "dataset = dataset.dropna()"
   ]
  },
  {
   "cell_type": "code",
   "execution_count": 3,
   "metadata": {},
   "outputs": [],
   "source": [
    "array = dataset.values"
   ]
  },
  {
   "cell_type": "code",
   "execution_count": 4,
   "metadata": {},
   "outputs": [
    {
     "name": "stdout",
     "output_type": "stream",
     "text": [
      "105152\n",
      "105152\n",
      "[9 9 9 ... 2 2 2]\n",
      "[457 457 457 ... 494 494 494]\n",
      "0.22043649850221103\n"
     ]
    }
   ],
   "source": [
    "X = array[:,1]\n",
    "print(len(X))\n",
    "Y = array[:,4]\n",
    "print(len(Y))\n",
    "\n",
    "# label_encoder object knows how to understand word labels.\n",
    "label_encoder = preprocessing.LabelEncoder()\n",
    "X = label_encoder.fit_transform(X)\n",
    "Y = label_encoder.fit_transform(Y)\n",
    "print (X)\n",
    "print (Y)\n",
    "X_train, X_validation, Y_train, Y_validation = train_test_split(X.reshape(-1,1), Y.reshape(-1,1), test_size=0.2, random_state=1, shuffle=True)\n",
    "\n",
    "model = DecisionTreeClassifier()\n",
    "model.fit(X_train, Y_train)\n",
    "predictions = model.predict(X_validation)\n",
    "predictions = predictions.astype(int)\n",
    "print(accuracy_score(Y_validation, predictions))"
   ]
  },
  {
   "cell_type": "code",
   "execution_count": 5,
   "metadata": {},
   "outputs": [
    {
     "name": "stdout",
     "output_type": "stream",
     "text": [
      "105152\n",
      "105152\n",
      "[ 0  0  0 ... 37 37 37]\n",
      "[457 457 457 ... 494 494 494]\n",
      "0.0579145071561029\n"
     ]
    }
   ],
   "source": [
    "X = array[:,2]\n",
    "print(len(X))\n",
    "Y = array[:,4]\n",
    "print(len(Y))\n",
    "\n",
    "# label_encoder object knows how to understand word labels.\n",
    "label_encoder = preprocessing.LabelEncoder()\n",
    "X = label_encoder.fit_transform(X)\n",
    "Y = label_encoder.fit_transform(Y)\n",
    "print (X)\n",
    "print (Y)\n",
    "X_train, X_validation, Y_train, Y_validation = train_test_split(X.reshape(-1,1), Y.reshape(-1,1), test_size=0.2, random_state=1, shuffle=True)\n",
    "\n",
    "model = DecisionTreeClassifier()\n",
    "model.fit(X_train, Y_train)\n",
    "predictions = model.predict(X_validation)\n",
    "predictions = predictions.astype(int)\n",
    "print(accuracy_score(Y_validation, predictions))"
   ]
  },
  {
   "cell_type": "code",
   "execution_count": 6,
   "metadata": {},
   "outputs": [
    {
     "name": "stdout",
     "output_type": "stream",
     "text": [
      "105152\n",
      "105152\n",
      "[  324   435   546 ... 14604 14605 14606]\n",
      "[457 457 457 ... 494 494 494]\n",
      "0.04222338452760211\n"
     ]
    }
   ],
   "source": [
    "X = array[:,3]\n",
    "print(len(X))\n",
    "Y = array[:,4]\n",
    "print(len(Y))\n",
    "\n",
    "# label_encoder object knows how to understand word labels.\n",
    "label_encoder = preprocessing.LabelEncoder()\n",
    "X = label_encoder.fit_transform(X)\n",
    "Y = label_encoder.fit_transform(Y)\n",
    "print (X)\n",
    "print (Y)\n",
    "X_train, X_validation, Y_train, Y_validation = train_test_split(X.reshape(-1,1), Y.reshape(-1,1), test_size=0.2, random_state=1, shuffle=True)\n",
    "\n",
    "model = DecisionTreeClassifier()\n",
    "model.fit(X_train, Y_train)\n",
    "predictions = model.predict(X_validation)\n",
    "predictions = predictions.astype(int)\n",
    "print(accuracy_score(Y_validation, predictions))"
   ]
  },
  {
   "cell_type": "code",
   "execution_count": 7,
   "metadata": {},
   "outputs": [
    {
     "name": "stdout",
     "output_type": "stream",
     "text": [
      "105152\n",
      "105152\n",
      "[60240 23568  4998 ... 22110 55480 78872]\n",
      "[457 457 457 ... 494 494 494]\n",
      "0.02215776710570111\n"
     ]
    }
   ],
   "source": [
    "X = array[:,5]\n",
    "print(len(X))\n",
    "Y = array[:,4]\n",
    "print(len(Y))\n",
    "\n",
    "# label_encoder object knows how to understand word labels.\n",
    "label_encoder = preprocessing.LabelEncoder()\n",
    "X = label_encoder.fit_transform(X)\n",
    "Y = label_encoder.fit_transform(Y)\n",
    "print (X)\n",
    "print (Y)\n",
    "X_train, X_validation, Y_train, Y_validation = train_test_split(X.reshape(-1,1), Y.reshape(-1,1), test_size=0.2, random_state=1, shuffle=True)\n",
    "\n",
    "model = DecisionTreeClassifier()\n",
    "model.fit(X_train, Y_train)\n",
    "predictions = model.predict(X_validation)\n",
    "predictions = predictions.astype(int)\n",
    "print(accuracy_score(Y_validation, predictions))"
   ]
  }
 ],
 "metadata": {
  "kernelspec": {
   "display_name": "Python 2",
   "language": "python",
   "name": "python2"
  },
  "language_info": {
   "codemirror_mode": {
    "name": "ipython",
    "version": 2
   },
   "file_extension": ".py",
   "mimetype": "text/x-python",
   "name": "python",
   "nbconvert_exporter": "python",
   "pygments_lexer": "ipython2",
   "version": "2.7.16"
  }
 },
 "nbformat": 4,
 "nbformat_minor": 2
}
